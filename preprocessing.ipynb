{
 "cells": [
  {
   "cell_type": "markdown",
   "id": "ed82ee13-359a-49d0-9261-5706ced1528d",
   "metadata": {},
   "source": [
    "# Setup"
   ]
  },
  {
   "cell_type": "code",
   "execution_count": 1,
   "id": "74d66a50-dee4-4c8f-b758-4d73fd2fd8f9",
   "metadata": {},
   "outputs": [],
   "source": [
    "import numpy as np\n",
    "import string \n",
    "import re \n",
    "import spacy\n",
    "import nltk\n",
    "from nltk.corpus import stopwords \n",
    "from nltk import word_tokenize\n",
    "from sklearn.feature_extraction.text import CountVectorizer\n",
    "from sklearn.feature_extraction.text import TfidfVectorizer \n",
    "import pandas as pd\n",
    "from tqdm import tqdm"
   ]
  },
  {
   "cell_type": "code",
   "execution_count": 2,
   "id": "bfdde1b3-6847-41e2-99c3-86a7b0815db0",
   "metadata": {},
   "outputs": [
    {
     "name": "stderr",
     "output_type": "stream",
     "text": [
      "[nltk_data] Downloading package stopwords to /Users/aiman/nltk_data...\n",
      "[nltk_data]   Package stopwords is already up-to-date!\n",
      "[nltk_data] Downloading package punkt to /Users/aiman/nltk_data...\n",
      "[nltk_data]   Package punkt is already up-to-date!\n"
     ]
    }
   ],
   "source": [
    "pd.set_option('display.max_colwidth',200)\n",
    "tqdm.pandas()\n",
    "\n",
    "nltk.download(\"stopwords\")\n",
    "nltk.download(\"punkt\")\n",
    "tqdm.pandas()"
   ]
  },
  {
   "cell_type": "code",
   "execution_count": 7,
   "id": "d4bae660-f263-4e54-acd6-f615ce85ceab",
   "metadata": {},
   "outputs": [],
   "source": [
    "from src.load import load_data_as_df\n",
    "from src.preprocessing import remove_stop_words\n",
    "import config"
   ]
  },
  {
   "cell_type": "markdown",
   "id": "e0f19032-b661-4bc0-be97-b30c854cb9b1",
   "metadata": {},
   "source": [
    "# Load Data"
   ]
  },
  {
   "cell_type": "code",
   "execution_count": 10,
   "id": "e4679950-f127-47f2-ba44-c3f741d1d701",
   "metadata": {},
   "outputs": [
    {
     "name": "stdout",
     "output_type": "stream",
     "text": [
      "CPU times: user 3 μs, sys: 2 μs, total: 5 μs\n",
      "Wall time: 6.91 μs\n",
      "Loading English Corpora from: data/europarl-v7.nl-en.en ...\n",
      "Loading Dutch Corpora from: data/europarl-v7.nl-en.nl ...\n"
     ]
    }
   ],
   "source": [
    "en_file = \"data/europarl-v7.nl-en.en\"\n",
    "nl_file = \"data/europarl-v7.nl-en.nl\"\n",
    "%time\n",
    "    df = load_data_as_df(source_file=config.en_file, source_col=config.source_col, target_file=config.nl_file, target_col=config.target_col"
   ]
  },
  {
   "cell_type": "code",
   "execution_count": 12,
   "id": "953d4dfb-da72-4073-a5a5-c061159fff36",
   "metadata": {},
   "outputs": [
    {
     "data": {
      "text/plain": [
       "1997775"
      ]
     },
     "execution_count": 12,
     "metadata": {},
     "output_type": "execute_result"
    }
   ],
   "source": [
    "len(df)"
   ]
  },
  {
   "cell_type": "code",
   "execution_count": 14,
   "id": "451004ee-6458-4d50-8cb9-43aa2b27074a",
   "metadata": {},
   "outputs": [
    {
     "data": {
      "text/html": [
       "<div>\n",
       "<style scoped>\n",
       "    .dataframe tbody tr th:only-of-type {\n",
       "        vertical-align: middle;\n",
       "    }\n",
       "\n",
       "    .dataframe tbody tr th {\n",
       "        vertical-align: top;\n",
       "    }\n",
       "\n",
       "    .dataframe thead th {\n",
       "        text-align: right;\n",
       "    }\n",
       "</style>\n",
       "<table border=\"1\" class=\"dataframe\">\n",
       "  <thead>\n",
       "    <tr style=\"text-align: right;\">\n",
       "      <th></th>\n",
       "      <th>English</th>\n",
       "      <th>Dutch</th>\n",
       "    </tr>\n",
       "  </thead>\n",
       "  <tbody>\n",
       "    <tr>\n",
       "      <th>0</th>\n",
       "      <td>Resumption of the session</td>\n",
       "      <td>Hervatting van de zitting</td>\n",
       "    </tr>\n",
       "    <tr>\n",
       "      <th>1</th>\n",
       "      <td>I declare resumed the session of the European Parliament adjourned on Friday 17 December 1999, and I would like once again to wish you a happy new year in the hope that you enjoyed a pleasant fest...</td>\n",
       "      <td>Ik verklaar de zitting van het Europees Parlement, die op vrijdag 17 december werd onderbroken, te zijn hervat. Ik wens u allen een gelukkig nieuwjaar en hoop dat u een goede vakantie heeft gehad.</td>\n",
       "    </tr>\n",
       "    <tr>\n",
       "      <th>2</th>\n",
       "      <td>Although, as you will have seen, the dreaded 'millennium bug' failed to materialise, still the people in a number of countries suffered a series of natural disasters that truly were dreadful.</td>\n",
       "      <td>Zoals u heeft kunnen constateren, is de grote \"millenniumbug\" uitgebleven. De burgers van een aantal van onze lidstaten zijn daarentegen door verschrikkelijke natuurrampen getroffen.</td>\n",
       "    </tr>\n",
       "    <tr>\n",
       "      <th>3</th>\n",
       "      <td>You have requested a debate on this subject in the course of the next few days, during this part-session.</td>\n",
       "      <td>U heeft aangegeven dat u deze vergaderperiode een debat wilt over deze rampen.</td>\n",
       "    </tr>\n",
       "    <tr>\n",
       "      <th>4</th>\n",
       "      <td>In the meantime, I should like to observe a minute' s silence, as a number of Members have requested, on behalf of all the victims concerned, particularly those of the terrible storms, in the vari...</td>\n",
       "      <td>Nu wil ik graag op verzoek van een aantal collega's een minuut stilte in acht nemen ter nagedachtenis van de slachtoffers. Ik doel hiermee met name op de slachtoffers van het noodweer dat verschil...</td>\n",
       "    </tr>\n",
       "  </tbody>\n",
       "</table>\n",
       "</div>"
      ],
      "text/plain": [
       "                                                                                                                                                                                                   English  \\\n",
       "0                                                                                                                                                                                Resumption of the session   \n",
       "1  I declare resumed the session of the European Parliament adjourned on Friday 17 December 1999, and I would like once again to wish you a happy new year in the hope that you enjoyed a pleasant fest...   \n",
       "2          Although, as you will have seen, the dreaded 'millennium bug' failed to materialise, still the people in a number of countries suffered a series of natural disasters that truly were dreadful.   \n",
       "3                                                                                                You have requested a debate on this subject in the course of the next few days, during this part-session.   \n",
       "4  In the meantime, I should like to observe a minute' s silence, as a number of Members have requested, on behalf of all the victims concerned, particularly those of the terrible storms, in the vari...   \n",
       "\n",
       "                                                                                                                                                                                                     Dutch  \n",
       "0                                                                                                                                                                                Hervatting van de zitting  \n",
       "1     Ik verklaar de zitting van het Europees Parlement, die op vrijdag 17 december werd onderbroken, te zijn hervat. Ik wens u allen een gelukkig nieuwjaar en hoop dat u een goede vakantie heeft gehad.  \n",
       "2                   Zoals u heeft kunnen constateren, is de grote \"millenniumbug\" uitgebleven. De burgers van een aantal van onze lidstaten zijn daarentegen door verschrikkelijke natuurrampen getroffen.  \n",
       "3                                                                                                                           U heeft aangegeven dat u deze vergaderperiode een debat wilt over deze rampen.  \n",
       "4  Nu wil ik graag op verzoek van een aantal collega's een minuut stilte in acht nemen ter nagedachtenis van de slachtoffers. Ik doel hiermee met name op de slachtoffers van het noodweer dat verschil...  "
      ]
     },
     "execution_count": 14,
     "metadata": {},
     "output_type": "execute_result"
    }
   ],
   "source": [
    "df.head()"
   ]
  },
  {
   "cell_type": "markdown",
   "id": "09932da9-8ee9-41fa-804a-b1443150b5ab",
   "metadata": {},
   "source": [
    "# Preprocessing\n",
    "To prepare the parallel English-Dutch corpus for model training, we applied a series of preprocessing steps designed to improve data quality while preserving translation context.\n",
    "\n",
    "- Lowercasing\n",
    "    - All text was converted to lowercase to reduce vocabulary size and ensure uniform representation.\n",
    "- XML and Non-Text Removal\n",
    "    - Lines starting with < (metadata/XML tags) and non-string/null values were removed.\n",
    "- Punctuation and Stopwords\n",
    "    - We retained punctuation (remove_punct=False) to preserve sentence structure and context important for translation (e.g., question marks, commas).\n",
    "\n",
    "    - We kept stopwords (remove_stopwords=False) since they carry significant meaning in translation (e.g., prepositions and articles).\n",
    "- Number Removal\n",
    "    - Numeric digits were removed (remove_nums=True) to avoid noise from non-linguistic tokens not relevant to translation.\n",
    "- Length Filtering\n",
    "    - Sentences shorter than 3 characters or longer than 100 tokens were filtered out to reduce noise and extreme outliers.\n",
    "- Duplicate and Empty Rows\n",
    "    - Deleted repeated pairs and rows that became empty after cleaning.\n",
    "These steps made the dataset cleaner while still keeping the words and structure needed for good translation."
   ]
  },
  {
   "cell_type": "code",
   "execution_count": 66,
   "id": "c66f2164-42dc-4b2d-a508-698db0c635dd",
   "metadata": {},
   "outputs": [],
   "source": [
    "def preprocess_text(text: str, lan: str) -> str:\n",
    "    \"\"\"\n",
    "    Preprocesses a given text string by applying normalization, punctuation removal,\n",
    "    stopword removal, and number removal based on configuration flags.\n",
    "\n",
    "    Steps performed:\n",
    "    1. Validates input: returns an empty string if input is not a valid non-empty string.\n",
    "    2. Returns an empty string if the line starts with '<'.\n",
    "    3. Converts text to lowercase and trims whitespace.\n",
    "    4. Removes punctuation if `config.remove_punct` is True.\n",
    "    5. Removes stopwords using the language-specific stopword list if `config.remove_stopwords` is True.\n",
    "    6. Removes numeric digits if `config.remove_nums` is True.\n",
    "\n",
    "    Args:\n",
    "        text (str): The input text to preprocess.\n",
    "        lan (str): The language for stopword removal ('English' or 'Dutch').\n",
    "\n",
    "    Returns:\n",
    "        str: The preprocessed text string.\n",
    "    \"\"\"\n",
    "    if not isinstance(text, str) or not text.strip():\n",
    "        return \"\"\n",
    "    text = text.strip()\n",
    "    if text.startswith(\"<\"):\n",
    "        return \"\"\n",
    "    text = text.lower()\n",
    "\n",
    "    if config.remove_punct:\n",
    "        text = \"\".join(char for char in text if char not in string.punctuation)\n",
    "\n",
    "    if config.remove_stopwords:\n",
    "        stop_words = get_stopwords(lan)\n",
    "        tokens = word_tokenize(text)\n",
    "        text = \" \".join(word for word in tokens if word not in stop_words)\n",
    "\n",
    "    if config.remove_nums:\n",
    "        text = re.sub(r\"\\d+\", \"\", text)\n",
    "\n",
    "    return text\n",
    "\n",
    "def get_stopwords(lan: str) -> set:\n",
    "    \"\"\"\n",
    "    Returns a set of stopwords for the given language.\n",
    "    Supports only 'English' and 'Dutch'.\n",
    "    \"\"\"\n",
    "    lan = lan.strip().capitalize()\n",
    "    if lan == \"English\":\n",
    "        return set(stopwords.words(\"english\"))\n",
    "    elif lan == \"Dutch\":\n",
    "        nl_stop = set(stopwords.words(\"dutch\"))\n",
    "        nl_stop.update(config.custom_nl_stopwords)\n",
    "        return nl_stop\n",
    "    else:\n",
    "        raise ValueError(\"Language must be 'English' or 'Dutch'\")"
   ]
  },
  {
   "cell_type": "code",
   "execution_count": 68,
   "id": "07923f6d-d3d6-411a-a1ee-ff44c9132e8a",
   "metadata": {},
   "outputs": [],
   "source": [
    "def preprocess_dataframe(df, source_col, target_col):\n",
    "\n",
    "    print(f\"[Start Preprocessing] Total raw rows: {len(df):,}\")\n",
    "\n",
    "    # Remove non-strings and nulls\n",
    "    df = df[df[source_col].apply(lambda x: isinstance(x, str))]\n",
    "    df = df[df[target_col].apply(lambda x: isinstance(x, str))]\n",
    "    df = df.dropna(subset=[source_col, target_col])\n",
    "    print(f\"[Step 1] Rows after removing nulls/non-strings: {len(df):,}\")\n",
    "\n",
    "    # Preprocess text\n",
    "    print(\"[Step 2] Preprocessing each row ...\")\n",
    "    df[source_col] = df[source_col].progress_apply(lambda x: preprocess_text(x, source_col))\n",
    "    df[target_col] = df[target_col].progress_apply(lambda x: preprocess_text(x, target_col))\n",
    "\n",
    "    # Drop duplicates\n",
    "    before = len(df)\n",
    "    df = df.drop_duplicates(keep=\"first\")\n",
    "    print(f\"[Step 3] Removed duplicates: {before - len(df):,} rows dropped ({len(df):,} remain)\")\n",
    "\n",
    "    # Remove rows with too short strings\n",
    "    before = len(df)\n",
    "    df = df[(df[source_col].str.strip() != \"\") & (df[target_col].str.strip() != \"\")]\n",
    "    df = df[(df[source_col].str.len() >= config.min_len_chars) &\n",
    "            (df[target_col].str.len() >= config.min_len_chars)]\n",
    "    print(f\"[Step 4] Removed empty/short rows: {before - len(df):,} rows dropped ({len(df):,} remain)\")\n",
    "\n",
    "    # Remove overly long sentences\n",
    "    before = len(df)\n",
    "    df = df[df.apply(\n",
    "        lambda row: len(row[source_col].split()) <= config.max_len_tokens and\n",
    "                    len(row[target_col].split()) <= config.max_len_tokens, axis=1)]\n",
    "    print(f\"[Step 5] Removed overly long rows: {before - len(df):,} rows dropped ({len(df):,} remain)\")\n",
    "\n",
    "    print(f\"[Done] Final preprocessed rows: {len(df):,}\\n\")\n",
    "    return df"
   ]
  },
  {
   "cell_type": "code",
   "execution_count": 70,
   "id": "674e75e5-dfc0-459a-8210-f5faa3c32c56",
   "metadata": {},
   "outputs": [
    {
     "name": "stdout",
     "output_type": "stream",
     "text": [
      "[Start Preprocessing] Total raw rows: 1,997,775\n",
      "[Step 1] Rows after removing nulls/non-strings: 1,997,775\n",
      "[Step 2] Preprocessing each row ...\n"
     ]
    },
    {
     "name": "stderr",
     "output_type": "stream",
     "text": [
      "100%|███████████████████████████████████████████████████████████████████████████████████████████████| 1997775/1997775 [00:08<00:00, 227191.44it/s]\n",
      "100%|███████████████████████████████████████████████████████████████████████████████████████████████| 1997775/1997775 [00:08<00:00, 229131.15it/s]\n"
     ]
    },
    {
     "name": "stdout",
     "output_type": "stream",
     "text": [
      "[Step 3] Removed duplicates: 44,105 rows dropped (1,953,670 remain)\n",
      "[Step 4] Removed empty/short rows: 17,887 rows dropped (1,935,783 remain)\n",
      "[Step 5] Removed overly long rows: 3,629 rows dropped (1,932,154 remain)\n",
      "[Done] Final preprocessed rows: 1,932,154\n",
      "\n"
     ]
    }
   ],
   "source": [
    "df_clean = preprocess_dataframe(df=df, source_col=config.source_col, target_col=config.target_col)"
   ]
  },
  {
   "cell_type": "code",
   "execution_count": 72,
   "id": "741a6320-a93b-428f-8885-a5f64927c07a",
   "metadata": {},
   "outputs": [
    {
     "data": {
      "text/html": [
       "<div>\n",
       "<style scoped>\n",
       "    .dataframe tbody tr th:only-of-type {\n",
       "        vertical-align: middle;\n",
       "    }\n",
       "\n",
       "    .dataframe tbody tr th {\n",
       "        vertical-align: top;\n",
       "    }\n",
       "\n",
       "    .dataframe thead th {\n",
       "        text-align: right;\n",
       "    }\n",
       "</style>\n",
       "<table border=\"1\" class=\"dataframe\">\n",
       "  <thead>\n",
       "    <tr style=\"text-align: right;\">\n",
       "      <th></th>\n",
       "      <th>English</th>\n",
       "      <th>Dutch</th>\n",
       "    </tr>\n",
       "  </thead>\n",
       "  <tbody>\n",
       "    <tr>\n",
       "      <th>0</th>\n",
       "      <td>i also agree with the rapporteur in expressing the desire that rules covering the remaining risk factors for health and safety in the workplace - that is, electromagnetic fields and optical radiat...</td>\n",
       "      <td>ik ben het eens met de rapporteur als deze de wens uitspreekt dat er spoedig regels zullen worden uitgevaardigd met betrekking tot andere risicofactoren op het werk, zoals elektromagnetische velde...</td>\n",
       "    </tr>\n",
       "    <tr>\n",
       "      <th>1</th>\n",
       "      <td>obviously, it is important that europe' s researchers cooperate and that research efforts are coordinated to some degree.</td>\n",
       "      <td>uiteraard is het belangrijk dat de europese onderzoekers samenwerken en de onderzoeksinspanningen tot op zekere hoogte worden gecoördineerd.</td>\n",
       "    </tr>\n",
       "    <tr>\n",
       "      <th>2</th>\n",
       "      <td>however, i was forced to recognise that this was unlikely to be supported by a majority in this house, for of course it is quite correct that setting up a new funding instrument takes a great deal...</td>\n",
       "      <td>ik heb echter moeten inzien dat ik voor dit standpunt geen meerderheid zou kunnen krijgen, want het kost onder andere natuurlijk veel tijd om een nieuw stimuleringsinstrument te creëren. en zo vee...</td>\n",
       "    </tr>\n",
       "    <tr>\n",
       "      <th>3</th>\n",
       "      <td>the latter agreement will also encompass joint border patrols for the surveillance of the green border, that is between the authorised border crossing points.</td>\n",
       "      <td>het laatstgenoemde akkoord omvat ook gezamenlijke grenscontroles ter bewaking van de groene grens, dat wil zeggen de gebieden tussen de officiële grensovergangen.</td>\n",
       "    </tr>\n",
       "    <tr>\n",
       "      <th>4</th>\n",
       "      <td>lastly, we maintain that it is important to open negotiations with important trading partners in asia, including the people's republic of china and india, since the economic growth of that entire ...</td>\n",
       "      <td>tot slot achten wij het van groot belang dat er onderhandelingen worden geopend met belangrijke aziatische handelspartners, waaronder de volksrepubliek china en india, aangezien dergelijke overeen...</td>\n",
       "    </tr>\n",
       "    <tr>\n",
       "      <th>...</th>\n",
       "      <td>...</td>\n",
       "      <td>...</td>\n",
       "    </tr>\n",
       "    <tr>\n",
       "      <th>19317</th>\n",
       "      <td>let me make a second comment on the substance of your speech.</td>\n",
       "      <td>ik wil nu een opmerking over de inhoud van uw toespraak maken. eigenlijk kan men alles wat u gezegd hebt onderstrepen, mijnheer de eerste minister.</td>\n",
       "    </tr>\n",
       "    <tr>\n",
       "      <th>19318</th>\n",
       "      <td>the principle that has been retained will stand or fall on that.</td>\n",
       "      <td>daarmee staat of valt de goedgekeurde regeling.</td>\n",
       "    </tr>\n",
       "    <tr>\n",
       "      <th>19319</th>\n",
       "      <td>i do not agree because all the european union' s behaviour up until now has been nothing but a huge demonstration of good faith, to the extent that, contrary to what had previously been laid down,...</td>\n",
       "      <td>ik ga hiermee niet akkoord omdat de houding van de europese unie tot dusver één grote uiting van goede trouw is geweest. wij zijn hierin zelfs zo ver gegaan dat wij in tegenstelling tot de oorspro...</td>\n",
       "    </tr>\n",
       "    <tr>\n",
       "      <th>19320</th>\n",
       "      <td>the conclusion of these negotiations, together with approximation of the relevant legislation, will mark a new stage in relations between the eu and tunisia and progress towards the integration of...</td>\n",
       "      <td>de afronding van deze onderhandelingen zal, samen met de afstemming van de betreffende wetgeving, een nieuwe fase inluiden in de betrekkingen tussen de eu en tunesië en de integratie van de tunesi...</td>\n",
       "    </tr>\n",
       "    <tr>\n",
       "      <th>19321</th>\n",
       "      <td>the report makes a useful and thought-provoking contribution to the debate launched at the hampton court european council in october .</td>\n",
       "      <td>het is een nuttige en stimulerende bijdrage aan het in oktober  tijdens de europese raad van hampton court aangevangen debat.</td>\n",
       "    </tr>\n",
       "  </tbody>\n",
       "</table>\n",
       "<p>19322 rows × 2 columns</p>\n",
       "</div>"
      ],
      "text/plain": [
       "                                                                                                                                                                                                       English  \\\n",
       "0      i also agree with the rapporteur in expressing the desire that rules covering the remaining risk factors for health and safety in the workplace - that is, electromagnetic fields and optical radiat...   \n",
       "1                                                                                    obviously, it is important that europe' s researchers cooperate and that research efforts are coordinated to some degree.   \n",
       "2      however, i was forced to recognise that this was unlikely to be supported by a majority in this house, for of course it is quite correct that setting up a new funding instrument takes a great deal...   \n",
       "3                                               the latter agreement will also encompass joint border patrols for the surveillance of the green border, that is between the authorised border crossing points.   \n",
       "4      lastly, we maintain that it is important to open negotiations with important trading partners in asia, including the people's republic of china and india, since the economic growth of that entire ...   \n",
       "...                                                                                                                                                                                                        ...   \n",
       "19317                                                                                                                                            let me make a second comment on the substance of your speech.   \n",
       "19318                                                                                                                                         the principle that has been retained will stand or fall on that.   \n",
       "19319  i do not agree because all the european union' s behaviour up until now has been nothing but a huge demonstration of good faith, to the extent that, contrary to what had previously been laid down,...   \n",
       "19320  the conclusion of these negotiations, together with approximation of the relevant legislation, will mark a new stage in relations between the eu and tunisia and progress towards the integration of...   \n",
       "19321                                                                   the report makes a useful and thought-provoking contribution to the debate launched at the hampton court european council in october .   \n",
       "\n",
       "                                                                                                                                                                                                         Dutch  \n",
       "0      ik ben het eens met de rapporteur als deze de wens uitspreekt dat er spoedig regels zullen worden uitgevaardigd met betrekking tot andere risicofactoren op het werk, zoals elektromagnetische velde...  \n",
       "1                                                                 uiteraard is het belangrijk dat de europese onderzoekers samenwerken en de onderzoeksinspanningen tot op zekere hoogte worden gecoördineerd.  \n",
       "2      ik heb echter moeten inzien dat ik voor dit standpunt geen meerderheid zou kunnen krijgen, want het kost onder andere natuurlijk veel tijd om een nieuw stimuleringsinstrument te creëren. en zo vee...  \n",
       "3                                           het laatstgenoemde akkoord omvat ook gezamenlijke grenscontroles ter bewaking van de groene grens, dat wil zeggen de gebieden tussen de officiële grensovergangen.  \n",
       "4      tot slot achten wij het van groot belang dat er onderhandelingen worden geopend met belangrijke aziatische handelspartners, waaronder de volksrepubliek china en india, aangezien dergelijke overeen...  \n",
       "...                                                                                                                                                                                                        ...  \n",
       "19317                                                      ik wil nu een opmerking over de inhoud van uw toespraak maken. eigenlijk kan men alles wat u gezegd hebt onderstrepen, mijnheer de eerste minister.  \n",
       "19318                                                                                                                                                          daarmee staat of valt de goedgekeurde regeling.  \n",
       "19319  ik ga hiermee niet akkoord omdat de houding van de europese unie tot dusver één grote uiting van goede trouw is geweest. wij zijn hierin zelfs zo ver gegaan dat wij in tegenstelling tot de oorspro...  \n",
       "19320  de afronding van deze onderhandelingen zal, samen met de afstemming van de betreffende wetgeving, een nieuwe fase inluiden in de betrekkingen tussen de eu en tunesië en de integratie van de tunesi...  \n",
       "19321                                                                            het is een nuttige en stimulerende bijdrage aan het in oktober  tijdens de europese raad van hampton court aangevangen debat.  \n",
       "\n",
       "[19322 rows x 2 columns]"
      ]
     },
     "execution_count": 72,
     "metadata": {},
     "output_type": "execute_result"
    }
   ],
   "source": [
    "# Sample a fraction\n",
    "df_sampled = df_clean.sample(frac=config.sample_frac, random_state=config.random_state).reset_index(drop=True)\n",
    "df_sampled"
   ]
  },
  {
   "cell_type": "code",
   "execution_count": 73,
   "id": "5e1befe0-73db-4a11-8c34-7da2bf955078",
   "metadata": {},
   "outputs": [],
   "source": [
    "import spacy\n",
    "\n",
    "nl_nlp = spacy.load(\"nl_core_news_sm\")  \n",
    "en_nlp = spacy.load(\"en_core_web_sm\")   "
   ]
  },
  {
   "cell_type": "code",
   "execution_count": 74,
   "id": "9fc9f9b2-2723-46ef-a873-15c0e6731668",
   "metadata": {},
   "outputs": [],
   "source": [
    "def tokenizer_en(text):\n",
    "    return [token.text for token in en_nlp.tokenizer(text)]\n",
    "\n",
    "def tokenizer_nl(text):\n",
    "    return [token.text for token in nl_nlp.tokenizer(text)]"
   ]
  },
  {
   "cell_type": "code",
   "execution_count": 75,
   "id": "29777cb8-7049-4326-883d-a03b19b44e44",
   "metadata": {},
   "outputs": [
    {
     "name": "stderr",
     "output_type": "stream",
     "text": [
      "100%|████████████████████████████████████████████████████████████████████████████████████████████████████| 19322/19322 [00:01<00:00, 18441.42it/s]\n"
     ]
    }
   ],
   "source": [
    "tokenized_en = df_sampled[\"English\"].progress_apply(tokenizer_en)"
   ]
  },
  {
   "cell_type": "code",
   "execution_count": 76,
   "id": "3c81aa84-9253-42a6-8783-a12410a172fa",
   "metadata": {},
   "outputs": [
    {
     "name": "stderr",
     "output_type": "stream",
     "text": [
      "100%|████████████████████████████████████████████████████████████████████████████████████████████████████| 19322/19322 [00:01<00:00, 15241.51it/s]\n"
     ]
    }
   ],
   "source": [
    "tokenized_nl = df_sampled[\"Dutch\"].progress_apply(tokenizer_nl)"
   ]
  },
  {
   "cell_type": "code",
   "execution_count": 77,
   "id": "9907a94f-d255-4343-9d73-171c9129e450",
   "metadata": {},
   "outputs": [
    {
     "data": {
      "text/html": [
       "<div>\n",
       "<style scoped>\n",
       "    .dataframe tbody tr th:only-of-type {\n",
       "        vertical-align: middle;\n",
       "    }\n",
       "\n",
       "    .dataframe tbody tr th {\n",
       "        vertical-align: top;\n",
       "    }\n",
       "\n",
       "    .dataframe thead th {\n",
       "        text-align: right;\n",
       "    }\n",
       "</style>\n",
       "<table border=\"1\" class=\"dataframe\">\n",
       "  <thead>\n",
       "    <tr style=\"text-align: right;\">\n",
       "      <th></th>\n",
       "      <th>English</th>\n",
       "      <th>Dutch</th>\n",
       "    </tr>\n",
       "  </thead>\n",
       "  <tbody>\n",
       "    <tr>\n",
       "      <th>0</th>\n",
       "      <td>i also agree with the rapporteur in expressing the desire that rules covering the remaining risk factors for health and safety in the workplace - that is, electromagnetic fields and optical radiat...</td>\n",
       "      <td>ik ben het eens met de rapporteur als deze de wens uitspreekt dat er spoedig regels zullen worden uitgevaardigd met betrekking tot andere risicofactoren op het werk, zoals elektromagnetische velde...</td>\n",
       "    </tr>\n",
       "    <tr>\n",
       "      <th>1</th>\n",
       "      <td>obviously, it is important that europe' s researchers cooperate and that research efforts are coordinated to some degree.</td>\n",
       "      <td>uiteraard is het belangrijk dat de europese onderzoekers samenwerken en de onderzoeksinspanningen tot op zekere hoogte worden gecoördineerd.</td>\n",
       "    </tr>\n",
       "    <tr>\n",
       "      <th>2</th>\n",
       "      <td>however, i was forced to recognise that this was unlikely to be supported by a majority in this house, for of course it is quite correct that setting up a new funding instrument takes a great deal...</td>\n",
       "      <td>ik heb echter moeten inzien dat ik voor dit standpunt geen meerderheid zou kunnen krijgen, want het kost onder andere natuurlijk veel tijd om een nieuw stimuleringsinstrument te creëren. en zo vee...</td>\n",
       "    </tr>\n",
       "    <tr>\n",
       "      <th>3</th>\n",
       "      <td>the latter agreement will also encompass joint border patrols for the surveillance of the green border, that is between the authorised border crossing points.</td>\n",
       "      <td>het laatstgenoemde akkoord omvat ook gezamenlijke grenscontroles ter bewaking van de groene grens, dat wil zeggen de gebieden tussen de officiële grensovergangen.</td>\n",
       "    </tr>\n",
       "    <tr>\n",
       "      <th>4</th>\n",
       "      <td>lastly, we maintain that it is important to open negotiations with important trading partners in asia, including the people's republic of china and india, since the economic growth of that entire ...</td>\n",
       "      <td>tot slot achten wij het van groot belang dat er onderhandelingen worden geopend met belangrijke aziatische handelspartners, waaronder de volksrepubliek china en india, aangezien dergelijke overeen...</td>\n",
       "    </tr>\n",
       "  </tbody>\n",
       "</table>\n",
       "</div>"
      ],
      "text/plain": [
       "                                                                                                                                                                                                   English  \\\n",
       "0  i also agree with the rapporteur in expressing the desire that rules covering the remaining risk factors for health and safety in the workplace - that is, electromagnetic fields and optical radiat...   \n",
       "1                                                                                obviously, it is important that europe' s researchers cooperate and that research efforts are coordinated to some degree.   \n",
       "2  however, i was forced to recognise that this was unlikely to be supported by a majority in this house, for of course it is quite correct that setting up a new funding instrument takes a great deal...   \n",
       "3                                           the latter agreement will also encompass joint border patrols for the surveillance of the green border, that is between the authorised border crossing points.   \n",
       "4  lastly, we maintain that it is important to open negotiations with important trading partners in asia, including the people's republic of china and india, since the economic growth of that entire ...   \n",
       "\n",
       "                                                                                                                                                                                                     Dutch  \n",
       "0  ik ben het eens met de rapporteur als deze de wens uitspreekt dat er spoedig regels zullen worden uitgevaardigd met betrekking tot andere risicofactoren op het werk, zoals elektromagnetische velde...  \n",
       "1                                                             uiteraard is het belangrijk dat de europese onderzoekers samenwerken en de onderzoeksinspanningen tot op zekere hoogte worden gecoördineerd.  \n",
       "2  ik heb echter moeten inzien dat ik voor dit standpunt geen meerderheid zou kunnen krijgen, want het kost onder andere natuurlijk veel tijd om een nieuw stimuleringsinstrument te creëren. en zo vee...  \n",
       "3                                       het laatstgenoemde akkoord omvat ook gezamenlijke grenscontroles ter bewaking van de groene grens, dat wil zeggen de gebieden tussen de officiële grensovergangen.  \n",
       "4  tot slot achten wij het van groot belang dat er onderhandelingen worden geopend met belangrijke aziatische handelspartners, waaronder de volksrepubliek china en india, aangezien dergelijke overeen...  "
      ]
     },
     "execution_count": 77,
     "metadata": {},
     "output_type": "execute_result"
    }
   ],
   "source": [
    "df_sampled.head()"
   ]
  },
  {
   "cell_type": "code",
   "execution_count": 90,
   "id": "42d44ddb-a4bf-467c-9a84-a146db1717e4",
   "metadata": {},
   "outputs": [
    {
     "data": {
      "text/plain": [
       "0    [i, also, agree, with, the, rapporteur, in, expressing, the, desire, that, rules, covering, the, remaining, risk, factors, for, health, and, safety, in, the, workplace, -, that, is, ,, electromagn...\n",
       "1                                                         [obviously, ,, it, is, important, that, europe, ', s, researchers, cooperate, and, that, research, efforts, are, coordinated, to, some, degree, .]\n",
       "2    [however, ,, i, was, forced, to, recognise, that, this, was, unlikely, to, be, supported, by, a, majority, in, this, house, ,, for, of, course, it, is, quite, correct, that, setting, up, a, new, f...\n",
       "3                [the, latter, agreement, will, also, encompass, joint, border, patrols, for, the, surveillance, of, the, green, border, ,, that, is, between, the, authorised, border, crossing, points, .]\n",
       "4    [lastly, ,, we, maintain, that, it, is, important, to, open, negotiations, with, important, trading, partners, in, asia, ,, including, the, people, 's, republic, of, china, and, india, ,, since, t...\n",
       "Name: English, dtype: object"
      ]
     },
     "execution_count": 90,
     "metadata": {},
     "output_type": "execute_result"
    }
   ],
   "source": [
    "tokenized_en.head()"
   ]
  },
  {
   "cell_type": "code",
   "execution_count": 92,
   "id": "85dd7c1e-8beb-4f7d-bcdc-9643bb6a37a1",
   "metadata": {},
   "outputs": [
    {
     "data": {
      "text/plain": [
       "0    [ik, ben, het, eens, met, de, rapporteur, als, deze, de, wens, uitspreekt, dat, er, spoedig, regels, zullen, worden, uitgevaardigd, met, betrekking, tot, andere, risicofactoren, op, het, werk, ,, ...\n",
       "1                                          [uiteraard, is, het, belangrijk, dat, de, europese, onderzoekers, samenwerken, en, de, onderzoeksinspanningen, tot, op, zekere, hoogte, worden, gecoördineerd, .]\n",
       "2    [ik, heb, echter, moeten, inzien, dat, ik, voor, dit, standpunt, geen, meerderheid, zou, kunnen, krijgen, ,, want, het, kost, onder, andere, natuurlijk, veel, tijd, om, een, nieuw, stimuleringsins...\n",
       "3              [het, laatstgenoemde, akkoord, omvat, ook, gezamenlijke, grenscontroles, ter, bewaking, van, de, groene, grens, ,, dat, wil, zeggen, de, gebieden, tussen, de, officiële, grensovergangen, .]\n",
       "4    [tot, slot, achten, wij, het, van, groot, belang, dat, er, onderhandelingen, worden, geopend, met, belangrijke, aziatische, handelspartners, ,, waaronder, de, volksrepubliek, china, en, india, ,, ...\n",
       "Name: Dutch, dtype: object"
      ]
     },
     "execution_count": 92,
     "metadata": {},
     "output_type": "execute_result"
    }
   ],
   "source": [
    "tokenized_nl.head()"
   ]
  },
  {
   "cell_type": "code",
   "execution_count": null,
   "id": "0b3a739d-b82c-41f7-af09-b3f2ee597d32",
   "metadata": {},
   "outputs": [],
   "source": []
  },
  {
   "cell_type": "code",
   "execution_count": null,
   "id": "07360a68-7695-4058-b8f8-4b272155a47e",
   "metadata": {},
   "outputs": [],
   "source": []
  },
  {
   "cell_type": "markdown",
   "id": "1f2c52c3-d4f1-48ec-b04f-9e72747111bd",
   "metadata": {},
   "source": [
    "# Word Embedding Example"
   ]
  },
  {
   "cell_type": "code",
   "execution_count": 113,
   "id": "d328318f-722e-4626-852c-9a1729c5fd9e",
   "metadata": {},
   "outputs": [],
   "source": [
    "import torch\n",
    "import numpy as np\n",
    "\n",
    "def load_embeddings(file_path, embedding_dim=300):\n",
    "    stoi = {}\n",
    "    itos = []\n",
    "    vectors = []\n",
    "\n",
    "    with open(file_path, \"r\", encoding=\"utf-8\") as f:\n",
    "        for line_num, line in enumerate(f):\n",
    "            values = line.strip().split()\n",
    "\n",
    "            # Skip header if present (common in FastText)\n",
    "            if line_num == 0 and len(values) == 2 and values[0].isdigit():\n",
    "                print(f\"[Info] Skipping header line: vocab_size={values[0]}, dim={values[1]}\")\n",
    "                continue\n",
    "\n",
    "            word = values[0]\n",
    "            vector = list(map(float, values[1:]))\n",
    "\n",
    "            if len(vector) != embedding_dim:\n",
    "                continue  # Skip malformed rows\n",
    "\n",
    "            stoi[word] = len(itos)\n",
    "            itos.append(word)\n",
    "            vectors.append(vector)\n",
    "\n",
    "    # Add special tokens\n",
    "    for token in [\"<pad>\", \"<sos>\", \"<eos>\", \"<unk>\"]:\n",
    "        if token not in stoi:\n",
    "            stoi[token] = len(itos)\n",
    "            itos.append(token)\n",
    "            vectors.append([0.0] * embedding_dim)\n",
    "\n",
    "    vectors = torch.tensor(np.array(vectors), dtype=torch.float32)\n",
    "    print(f\"[Done] Loaded {len(itos):,} tokens with {embedding_dim}-dim embeddings\\n\")\n",
    "\n",
    "    return stoi, itos, vectors\n"
   ]
  },
  {
   "cell_type": "code",
   "execution_count": 115,
   "id": "bb37e07c-aa8e-4d44-8465-a3f3a255ef4c",
   "metadata": {},
   "outputs": [],
   "source": [
    "def sentence_to_tensor(sentence, stoi, vectors):\n",
    "    tokens = sentence.lower().split()\n",
    "    indices = [stoi.get(token, stoi[\"<unk>\"]) for token in tokens]\n",
    "    return vectors[indices]  # shape: (len, emb_dim)"
   ]
  },
  {
   "cell_type": "code",
   "execution_count": 121,
   "id": "5cc74ef9-1191-4a8b-89ca-44b976c21df8",
   "metadata": {},
   "outputs": [
    {
     "name": "stdout",
     "output_type": "stream",
     "text": [
      "[Done] Loaded 400,004 tokens with 300-dim embeddings\n",
      "\n"
     ]
    }
   ],
   "source": [
    "glove_path = \"embedding_models/glove.6B.300d.txt\"  # path to GloVe\n",
    "stoi, itos, vectors = load_embeddings(glove_path)"
   ]
  },
  {
   "cell_type": "code",
   "execution_count": 122,
   "id": "8eb7689e-dd9e-41e2-94c5-6aa880cb45ed",
   "metadata": {},
   "outputs": [
    {
     "data": {
      "text/plain": [
       "tensor([[ 0.0466,  0.2132, -0.0074,  ...,  0.0091, -0.2099,  0.0539],\n",
       "        [-0.2554, -0.2572,  0.1317,  ..., -0.2329, -0.1223,  0.3550],\n",
       "        [-0.1256,  0.0136,  0.1031,  ..., -0.3422, -0.0224,  0.1368],\n",
       "        ...,\n",
       "        [ 0.0000,  0.0000,  0.0000,  ...,  0.0000,  0.0000,  0.0000],\n",
       "        [ 0.0000,  0.0000,  0.0000,  ...,  0.0000,  0.0000,  0.0000],\n",
       "        [ 0.0000,  0.0000,  0.0000,  ...,  0.0000,  0.0000,  0.0000]])"
      ]
     },
     "execution_count": 122,
     "metadata": {},
     "output_type": "execute_result"
    }
   ],
   "source": [
    "vectors"
   ]
  },
  {
   "cell_type": "code",
   "execution_count": 123,
   "id": "f49ea623-03aa-493b-a0ba-2af6bdc88536",
   "metadata": {},
   "outputs": [
    {
     "name": "stdout",
     "output_type": "stream",
     "text": [
      "torch.Size([4, 300])\n"
     ]
    }
   ],
   "source": [
    "sentence = \"I like deep learning\"\n",
    "tensor = sentence_to_tensor(sentence, stoi, vectors)  # shape (len, 300)\n",
    "print(tensor.shape)  # e.g., torch.Size([4, 300])"
   ]
  },
  {
   "cell_type": "code",
   "execution_count": null,
   "id": "901c784b-0663-4fcf-b274-9285eb975511",
   "metadata": {},
   "outputs": [],
   "source": []
  },
  {
   "cell_type": "code",
   "execution_count": null,
   "id": "2338bfc3-1855-4ff3-9d97-3b177c665a6d",
   "metadata": {},
   "outputs": [],
   "source": []
  },
  {
   "cell_type": "code",
   "execution_count": null,
   "id": "3e93b5cf-2c57-4e90-a584-8b7ca634ee0f",
   "metadata": {},
   "outputs": [],
   "source": []
  },
  {
   "cell_type": "code",
   "execution_count": null,
   "id": "3c0847a9-24dc-43d5-9b57-839742293b25",
   "metadata": {},
   "outputs": [],
   "source": []
  }
 ],
 "metadata": {
  "kernelspec": {
   "display_name": "translator",
   "language": "python",
   "name": "translator"
  },
  "language_info": {
   "codemirror_mode": {
    "name": "ipython",
    "version": 3
   },
   "file_extension": ".py",
   "mimetype": "text/x-python",
   "name": "python",
   "nbconvert_exporter": "python",
   "pygments_lexer": "ipython3",
   "version": "3.12.7"
  }
 },
 "nbformat": 4,
 "nbformat_minor": 5
}
