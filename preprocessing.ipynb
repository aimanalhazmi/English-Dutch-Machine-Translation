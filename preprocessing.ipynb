{
 "cells": [
  {
   "cell_type": "markdown",
   "id": "ed82ee13-359a-49d0-9261-5706ced1528d",
   "metadata": {},
   "source": [
    "# Setup"
   ]
  },
  {
   "cell_type": "code",
   "execution_count": 1,
   "id": "74d66a50-dee4-4c8f-b758-4d73fd2fd8f9",
   "metadata": {},
   "outputs": [],
   "source": [
    "import numpy as np\n",
    "import string \n",
    "import re \n",
    "import spacy\n",
    "import nltk\n",
    "from nltk.corpus import stopwords \n",
    "from nltk import word_tokenize\n",
    "from sklearn.feature_extraction.text import CountVectorizer\n",
    "from sklearn.feature_extraction.text import TfidfVectorizer \n",
    "import pandas as pd\n",
    "from tqdm import tqdm"
   ]
  },
  {
   "cell_type": "code",
   "execution_count": 2,
   "id": "bfdde1b3-6847-41e2-99c3-86a7b0815db0",
   "metadata": {},
   "outputs": [
    {
     "name": "stderr",
     "output_type": "stream",
     "text": [
      "[nltk_data] Downloading package stopwords to /Users/aiman/nltk_data...\n",
      "[nltk_data]   Package stopwords is already up-to-date!\n",
      "[nltk_data] Downloading package punkt to /Users/aiman/nltk_data...\n",
      "[nltk_data]   Package punkt is already up-to-date!\n"
     ]
    }
   ],
   "source": [
    "pd.set_option('display.max_colwidth',200)\n",
    "tqdm.pandas()\n",
    "\n",
    "nltk.download(\"stopwords\")\n",
    "nltk.download(\"punkt\")\n",
    "tqdm.pandas()"
   ]
  },
  {
   "cell_type": "code",
   "execution_count": 3,
   "id": "d4bae660-f263-4e54-acd6-f615ce85ceab",
   "metadata": {},
   "outputs": [],
   "source": [
    "from src.load import load_data_as_df\n",
    "from src.preprocessing import remove_stop_words\n",
    "import config"
   ]
  },
  {
   "cell_type": "markdown",
   "id": "e0f19032-b661-4bc0-be97-b30c854cb9b1",
   "metadata": {},
   "source": [
    "# Load Data"
   ]
  },
  {
   "cell_type": "code",
   "execution_count": 5,
   "id": "e4679950-f127-47f2-ba44-c3f741d1d701",
   "metadata": {},
   "outputs": [
    {
     "name": "stdout",
     "output_type": "stream",
     "text": [
      "CPU times: user 1 μs, sys: 1e+03 ns, total: 2 μs\n",
      "Wall time: 3.1 μs\n",
      "Loading English Corpora from: data/europarl-v7.nl-en.en ...\n",
      "Loading Dutch Corpora from: data/europarl-v7.nl-en.nl ...\n"
     ]
    }
   ],
   "source": [
    "en_file = \"data/europarl-v7.nl-en.en\"\n",
    "nl_file = \"data/europarl-v7.nl-en.nl\"\n",
    "%time\n",
    "df = load_data_as_df(en_file, nl_file)"
   ]
  },
  {
   "cell_type": "code",
   "execution_count": 6,
   "id": "953d4dfb-da72-4073-a5a5-c061159fff36",
   "metadata": {},
   "outputs": [
    {
     "data": {
      "text/plain": [
       "1997775"
      ]
     },
     "execution_count": 6,
     "metadata": {},
     "output_type": "execute_result"
    }
   ],
   "source": [
    "len(df)"
   ]
  },
  {
   "cell_type": "code",
   "execution_count": 7,
   "id": "451004ee-6458-4d50-8cb9-43aa2b27074a",
   "metadata": {},
   "outputs": [
    {
     "data": {
      "text/html": [
       "<div>\n",
       "<style scoped>\n",
       "    .dataframe tbody tr th:only-of-type {\n",
       "        vertical-align: middle;\n",
       "    }\n",
       "\n",
       "    .dataframe tbody tr th {\n",
       "        vertical-align: top;\n",
       "    }\n",
       "\n",
       "    .dataframe thead th {\n",
       "        text-align: right;\n",
       "    }\n",
       "</style>\n",
       "<table border=\"1\" class=\"dataframe\">\n",
       "  <thead>\n",
       "    <tr style=\"text-align: right;\">\n",
       "      <th></th>\n",
       "      <th>English</th>\n",
       "      <th>Dutch</th>\n",
       "    </tr>\n",
       "  </thead>\n",
       "  <tbody>\n",
       "    <tr>\n",
       "      <th>0</th>\n",
       "      <td>Resumption of the session</td>\n",
       "      <td>Hervatting van de zitting</td>\n",
       "    </tr>\n",
       "    <tr>\n",
       "      <th>1</th>\n",
       "      <td>I declare resumed the session of the European Parliament adjourned on Friday 17 December 1999, and I would like once again to wish you a happy new year in the hope that you enjoyed a pleasant fest...</td>\n",
       "      <td>Ik verklaar de zitting van het Europees Parlement, die op vrijdag 17 december werd onderbroken, te zijn hervat. Ik wens u allen een gelukkig nieuwjaar en hoop dat u een goede vakantie heeft gehad.</td>\n",
       "    </tr>\n",
       "    <tr>\n",
       "      <th>2</th>\n",
       "      <td>Although, as you will have seen, the dreaded 'millennium bug' failed to materialise, still the people in a number of countries suffered a series of natural disasters that truly were dreadful.</td>\n",
       "      <td>Zoals u heeft kunnen constateren, is de grote \"millenniumbug\" uitgebleven. De burgers van een aantal van onze lidstaten zijn daarentegen door verschrikkelijke natuurrampen getroffen.</td>\n",
       "    </tr>\n",
       "    <tr>\n",
       "      <th>3</th>\n",
       "      <td>You have requested a debate on this subject in the course of the next few days, during this part-session.</td>\n",
       "      <td>U heeft aangegeven dat u deze vergaderperiode een debat wilt over deze rampen.</td>\n",
       "    </tr>\n",
       "    <tr>\n",
       "      <th>4</th>\n",
       "      <td>In the meantime, I should like to observe a minute' s silence, as a number of Members have requested, on behalf of all the victims concerned, particularly those of the terrible storms, in the vari...</td>\n",
       "      <td>Nu wil ik graag op verzoek van een aantal collega's een minuut stilte in acht nemen ter nagedachtenis van de slachtoffers. Ik doel hiermee met name op de slachtoffers van het noodweer dat verschil...</td>\n",
       "    </tr>\n",
       "  </tbody>\n",
       "</table>\n",
       "</div>"
      ],
      "text/plain": [
       "                                                                                                                                                                                                   English  \\\n",
       "0                                                                                                                                                                                Resumption of the session   \n",
       "1  I declare resumed the session of the European Parliament adjourned on Friday 17 December 1999, and I would like once again to wish you a happy new year in the hope that you enjoyed a pleasant fest...   \n",
       "2          Although, as you will have seen, the dreaded 'millennium bug' failed to materialise, still the people in a number of countries suffered a series of natural disasters that truly were dreadful.   \n",
       "3                                                                                                You have requested a debate on this subject in the course of the next few days, during this part-session.   \n",
       "4  In the meantime, I should like to observe a minute' s silence, as a number of Members have requested, on behalf of all the victims concerned, particularly those of the terrible storms, in the vari...   \n",
       "\n",
       "                                                                                                                                                                                                     Dutch  \n",
       "0                                                                                                                                                                                Hervatting van de zitting  \n",
       "1     Ik verklaar de zitting van het Europees Parlement, die op vrijdag 17 december werd onderbroken, te zijn hervat. Ik wens u allen een gelukkig nieuwjaar en hoop dat u een goede vakantie heeft gehad.  \n",
       "2                   Zoals u heeft kunnen constateren, is de grote \"millenniumbug\" uitgebleven. De burgers van een aantal van onze lidstaten zijn daarentegen door verschrikkelijke natuurrampen getroffen.  \n",
       "3                                                                                                                           U heeft aangegeven dat u deze vergaderperiode een debat wilt over deze rampen.  \n",
       "4  Nu wil ik graag op verzoek van een aantal collega's een minuut stilte in acht nemen ter nagedachtenis van de slachtoffers. Ik doel hiermee met name op de slachtoffers van het noodweer dat verschil...  "
      ]
     },
     "execution_count": 7,
     "metadata": {},
     "output_type": "execute_result"
    }
   ],
   "source": [
    "df.head()"
   ]
  },
  {
   "cell_type": "markdown",
   "id": "09932da9-8ee9-41fa-804a-b1443150b5ab",
   "metadata": {},
   "source": [
    "# Preprocessing\n",
    "\n",
    "- lower case\n",
    "- strip\n",
    "- remove special characters\n",
    "- remove digits\n",
    "- remove duplicates\n",
    "- remove rows with too short strings"
   ]
  },
  {
   "cell_type": "code",
   "execution_count": 9,
   "id": "c66f2164-42dc-4b2d-a508-698db0c635dd",
   "metadata": {},
   "outputs": [],
   "source": [
    "def preprocess(text, stop_words):\n",
    "    if not isinstance(text, str) or not text.strip():\n",
    "        return \"\"\n",
    "        \n",
    "    # always lowercase & remove whitespaces\n",
    "    text = text.lower().strip()\n",
    "\n",
    "    # Remove everything after '<' if it exists\n",
    "    if \"<\" in text:\n",
    "        text = text.split(\"<\")[0].strip()\n",
    "\n",
    "    if not text:\n",
    "        return \"\"  # Leave empty for later row drop\n",
    "\n",
    "    # Remove punctuation\n",
    "    if config.remove_punct:\n",
    "        text = \"\".join(char for char in text if char not in string.punctuation)\n",
    "\n",
    "    # Remove stopwords\n",
    "    if config.remove_stopwords:\n",
    "        tokens = word_tokenize(text)\n",
    "        text = \" \".join(word for word in tokens if word not in stop_words)\n",
    "\n",
    "    # Remove numbers\n",
    "    if config.remove_nums:\n",
    "        text = re.sub(r\"\\d+\", \"\", text)\n",
    "\n",
    "    return text"
   ]
  },
  {
   "cell_type": "code",
   "execution_count": 33,
   "id": "07923f6d-d3d6-411a-a1ee-ff44c9132e8a",
   "metadata": {},
   "outputs": [],
   "source": [
    "def preprocess_dataframe(df):\n",
    "    print(f\"[Start] Total raw rows: {len(df)}\")\n",
    "\n",
    "    # Remove non-strings and nulls\n",
    "    df = df[df[\"English\"].apply(lambda x: isinstance(x, str))]\n",
    "    df = df[df[\"Dutch\"].apply(lambda x: isinstance(x, str))]\n",
    "    df = df.dropna(subset=[\"English\", \"Dutch\"])\n",
    "    print(f\"[Step 1] Rows after removing nulls/non-strings: {len(df)}\")\n",
    "\n",
    "    # Load stopwords\n",
    "    en_stop = set(stopwords.words(\"english\"))\n",
    "    nl_stop = set(stopwords.words(\"dutch\"))\n",
    "    nl_stop.update(config.custom_nl_stopwords)\n",
    "\n",
    "    # Preprocess text\n",
    "    df[\"English\"] = df[\"English\"].progress_apply(lambda x: preprocess(x, en_stop))\n",
    "    df[\"Dutch\"] = df[\"Dutch\"].progress_apply(lambda x: preprocess(x, nl_stop))\n",
    "\n",
    "\n",
    "    # Drop duplicates\n",
    "    df = df.drop_duplicates(keep=\"first\")\n",
    "\n",
    "    # Remove rows with too short strings\n",
    "    df = df[(df[\"English\"].str.strip() != \"\") & (df[\"Dutch\"].str.strip() != \"\")]\n",
    "    df = df[(df[\"English\"].str.len() >= config.min_len_chars) & \n",
    "            (df[\"Dutch\"].str.len() >= config.min_len_chars)]\n",
    "\n",
    "    # Remove overly long sentences\n",
    "    df = df[df.apply(\n",
    "        lambda row: len(row[\"English\"].split()) <= config.max_len_tokens and \n",
    "                    len(row[\"Dutch\"].split()) <= config.max_len_tokens, axis=1)]\n",
    "\n",
    "    print(f\"[Step 2] Rows after cleaning/filtering: {len(df)}\")\n",
    "\n",
    "    return df"
   ]
  },
  {
   "cell_type": "code",
   "execution_count": 35,
   "id": "674e75e5-dfc0-459a-8210-f5faa3c32c56",
   "metadata": {},
   "outputs": [
    {
     "name": "stdout",
     "output_type": "stream",
     "text": [
      "[Start] Total raw rows: 1997775\n",
      "[Step 1] Rows after removing nulls/non-strings: 1997775\n"
     ]
    },
    {
     "name": "stderr",
     "output_type": "stream",
     "text": [
      "100%|███████████████████████████████████████████████████████████████████████████████████████████████████████████████| 1997775/1997775 [00:13<00:00, 143341.25it/s]\n",
      "100%|███████████████████████████████████████████████████████████████████████████████████████████████████████████████| 1997775/1997775 [00:15<00:00, 129898.60it/s]\n"
     ]
    },
    {
     "name": "stdout",
     "output_type": "stream",
     "text": [
      "[Step 2] Rows after cleaning/filtering: 1930805\n"
     ]
    }
   ],
   "source": [
    "df_clean = preprocess_dataframe(df)"
   ]
  },
  {
   "cell_type": "code",
   "execution_count": 52,
   "id": "741a6320-a93b-428f-8885-a5f64927c07a",
   "metadata": {},
   "outputs": [
    {
     "data": {
      "text/html": [
       "<div>\n",
       "<style scoped>\n",
       "    .dataframe tbody tr th:only-of-type {\n",
       "        vertical-align: middle;\n",
       "    }\n",
       "\n",
       "    .dataframe tbody tr th {\n",
       "        vertical-align: top;\n",
       "    }\n",
       "\n",
       "    .dataframe thead th {\n",
       "        text-align: right;\n",
       "    }\n",
       "</style>\n",
       "<table border=\"1\" class=\"dataframe\">\n",
       "  <thead>\n",
       "    <tr style=\"text-align: right;\">\n",
       "      <th></th>\n",
       "      <th>English</th>\n",
       "      <th>Dutch</th>\n",
       "    </tr>\n",
       "  </thead>\n",
       "  <tbody>\n",
       "    <tr>\n",
       "      <th>0</th>\n",
       "      <td>these programmes have their purpose</td>\n",
       "      <td>de bestaande programma s hebben allemaal een doel en daarvoor hebben ze ook financiële ondersteuning gekregen niet voor iets anders</td>\n",
       "    </tr>\n",
       "    <tr>\n",
       "      <th>1</th>\n",
       "      <td>liberalisation is always going to be difficult</td>\n",
       "      <td>liberalisering verloopt immers altijd moeizaam</td>\n",
       "    </tr>\n",
       "    <tr>\n",
       "      <th>2</th>\n",
       "      <td>could you try to get the services to do something about the state of the lifts in this building</td>\n",
       "      <td>zou u kunnen proberen de diensten iets te laten doen aan de toestand van de liften in dit gebouw</td>\n",
       "    </tr>\n",
       "    <tr>\n",
       "      <th>3</th>\n",
       "      <td>is it true that after the failure of russia to make a real contribution to the talks with milosevic they will be willing to agree to military intervention if necessary this strikes me as a good th...</td>\n",
       "      <td>is het zo dat na het mislukken van een echte bijdrage van die kant in het gesprek met milosevic de bereidheid van de zijde van rusland groter zal zijn om in te stemmen met militaire actie indien n...</td>\n",
       "    </tr>\n",
       "    <tr>\n",
       "      <th>4</th>\n",
       "      <td>they are responsible for around  of the jobs created</td>\n",
       "      <td>kmos verantwoordelijk zijn voor  procent van alle gecreëerde banen</td>\n",
       "    </tr>\n",
       "    <tr>\n",
       "      <th>...</th>\n",
       "      <td>...</td>\n",
       "      <td>...</td>\n",
       "    </tr>\n",
       "    <tr>\n",
       "      <th>193075</th>\n",
       "      <td>commissioner ladies and gentlemen consumers it has just been said are one of the reasons for the existence of the european union</td>\n",
       "      <td>commissaris collegas consumenten  het is net al gezegd  zijn één van de bestaansredenen van de europese unie</td>\n",
       "    </tr>\n",
       "    <tr>\n",
       "      <th>193076</th>\n",
       "      <td>the committee on budgets will propose to the plenary that the budget for  be restrictive</td>\n",
       "      <td>de begrotingscommissie zal de plenaire vergadering een restrictieve begroting voor  voorstellen</td>\n",
       "    </tr>\n",
       "    <tr>\n",
       "      <th>193077</th>\n",
       "      <td>now however the selfsame commission albeit with a new commissioner is tabling a proposal for reforming the stability and growth pact the ambiguity of which will make it particularly welcome in the...</td>\n",
       "      <td>maar nu presenteert diezelfde commissie hoewel met een nieuwe commissaris een voorstel voor de hervorming van het stabiliteits en groeipact dat door zijn vaagheid vooral welkom zal zijn in de reke...</td>\n",
       "    </tr>\n",
       "    <tr>\n",
       "      <th>193078</th>\n",
       "      <td>mr president i refer to rule  concerning translations</td>\n",
       "      <td>– mijnheer de voorzitter ik doe een beroep op artikel  inzake vertalingen</td>\n",
       "    </tr>\n",
       "    <tr>\n",
       "      <th>193079</th>\n",
       "      <td>that is unfortunately not the case in the eu</td>\n",
       "      <td>dat is helaas niet het geval in de europese unie</td>\n",
       "    </tr>\n",
       "  </tbody>\n",
       "</table>\n",
       "<p>193080 rows × 2 columns</p>\n",
       "</div>"
      ],
      "text/plain": [
       "                                                                                                                                                                                                        English  \\\n",
       "0                                                                                                                                                                           these programmes have their purpose   \n",
       "1                                                                                                                                                                liberalisation is always going to be difficult   \n",
       "2                                                                                                               could you try to get the services to do something about the state of the lifts in this building   \n",
       "3       is it true that after the failure of russia to make a real contribution to the talks with milosevic they will be willing to agree to military intervention if necessary this strikes me as a good th...   \n",
       "4                                                                                                                                                          they are responsible for around  of the jobs created   \n",
       "...                                                                                                                                                                                                         ...   \n",
       "193075                                                                         commissioner ladies and gentlemen consumers it has just been said are one of the reasons for the existence of the european union   \n",
       "193076                                                                                                                 the committee on budgets will propose to the plenary that the budget for  be restrictive   \n",
       "193077  now however the selfsame commission albeit with a new commissioner is tabling a proposal for reforming the stability and growth pact the ambiguity of which will make it particularly welcome in the...   \n",
       "193078                                                                                                                                                    mr president i refer to rule  concerning translations   \n",
       "193079                                                                                                                                                             that is unfortunately not the case in the eu   \n",
       "\n",
       "                                                                                                                                                                                                          Dutch  \n",
       "0                                                                           de bestaande programma s hebben allemaal een doel en daarvoor hebben ze ook financiële ondersteuning gekregen niet voor iets anders  \n",
       "1                                                                                                                                                                liberalisering verloopt immers altijd moeizaam  \n",
       "2                                                                                                              zou u kunnen proberen de diensten iets te laten doen aan de toestand van de liften in dit gebouw  \n",
       "3       is het zo dat na het mislukken van een echte bijdrage van die kant in het gesprek met milosevic de bereidheid van de zijde van rusland groter zal zijn om in te stemmen met militaire actie indien n...  \n",
       "4                                                                                                                                            kmos verantwoordelijk zijn voor  procent van alle gecreëerde banen  \n",
       "...                                                                                                                                                                                                         ...  \n",
       "193075                                                                                             commissaris collegas consumenten  het is net al gezegd  zijn één van de bestaansredenen van de europese unie  \n",
       "193076                                                                                                          de begrotingscommissie zal de plenaire vergadering een restrictieve begroting voor  voorstellen  \n",
       "193077  maar nu presenteert diezelfde commissie hoewel met een nieuwe commissaris een voorstel voor de hervorming van het stabiliteits en groeipact dat door zijn vaagheid vooral welkom zal zijn in de reke...  \n",
       "193078                                                                                                                                – mijnheer de voorzitter ik doe een beroep op artikel  inzake vertalingen  \n",
       "193079                                                                                                                                                         dat is helaas niet het geval in de europese unie  \n",
       "\n",
       "[193080 rows x 2 columns]"
      ]
     },
     "execution_count": 52,
     "metadata": {},
     "output_type": "execute_result"
    }
   ],
   "source": [
    "# Sample a fraction\n",
    "df_sampled = df_clean.sample(frac=config.sample_frac, random_state=config.random_state).reset_index(drop=True)\n",
    "df_sampled"
   ]
  }
 ],
 "metadata": {
  "kernelspec": {
   "display_name": "translator",
   "language": "python",
   "name": "translator"
  },
  "language_info": {
   "codemirror_mode": {
    "name": "ipython",
    "version": 3
   },
   "file_extension": ".py",
   "mimetype": "text/x-python",
   "name": "python",
   "nbconvert_exporter": "python",
   "pygments_lexer": "ipython3",
   "version": "3.12.7"
  }
 },
 "nbformat": 4,
 "nbformat_minor": 5
}
