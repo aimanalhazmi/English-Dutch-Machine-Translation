{
 "cells": [
  {
   "cell_type": "markdown",
   "id": "ed82ee13-359a-49d0-9261-5706ced1528d",
   "metadata": {},
   "source": [
    "# Setup"
   ]
  },
  {
   "cell_type": "code",
   "execution_count": 130,
   "id": "74d66a50-dee4-4c8f-b758-4d73fd2fd8f9",
   "metadata": {},
   "outputs": [],
   "source": [
    "import numpy as np\n",
    "import string \n",
    "import re \n",
    "import spacy\n",
    "import nltk\n",
    "from nltk.corpus import stopwords \n",
    "from nltk import word_tokenize\n",
    "from sklearn.feature_extraction.text import CountVectorizer\n",
    "from sklearn.feature_extraction.text import TfidfVectorizer \n",
    "\n",
    "import pandas as pd\n",
    "pd.set_option('display.max_colwidth',200)"
   ]
  },
  {
   "cell_type": "code",
   "execution_count": 132,
   "id": "d4bae660-f263-4e54-acd6-f615ce85ceab",
   "metadata": {},
   "outputs": [],
   "source": [
    "from src.load import load_data_as_df\n",
    "from src.preprocessing import remove_stop_words\n",
    "import config"
   ]
  },
  {
   "cell_type": "markdown",
   "id": "e0f19032-b661-4bc0-be97-b30c854cb9b1",
   "metadata": {},
   "source": [
    "# Load Data"
   ]
  },
  {
   "cell_type": "code",
   "execution_count": 135,
   "id": "e4679950-f127-47f2-ba44-c3f741d1d701",
   "metadata": {},
   "outputs": [
    {
     "name": "stdout",
     "output_type": "stream",
     "text": [
      "CPU times: user 3 μs, sys: 1 μs, total: 4 μs\n",
      "Wall time: 10 μs\n",
      "Loading English Corpora from: data/europarl-v7.nl-en.en ...\n",
      "Loading Dutch Corpora from: data/europarl-v7.nl-en.nl ...\n"
     ]
    }
   ],
   "source": [
    "en_file = \"data/europarl-v7.nl-en.en\"\n",
    "nl_file = \"data/europarl-v7.nl-en.nl\"\n",
    "%time\n",
    "df = load_data_as_df(en_file, nl_file)"
   ]
  },
  {
   "cell_type": "code",
   "execution_count": 136,
   "id": "953d4dfb-da72-4073-a5a5-c061159fff36",
   "metadata": {},
   "outputs": [
    {
     "data": {
      "text/plain": [
       "1997775"
      ]
     },
     "execution_count": 136,
     "metadata": {},
     "output_type": "execute_result"
    }
   ],
   "source": [
    "len(df)"
   ]
  },
  {
   "cell_type": "code",
   "execution_count": 137,
   "id": "451004ee-6458-4d50-8cb9-43aa2b27074a",
   "metadata": {},
   "outputs": [
    {
     "data": {
      "text/html": [
       "<div>\n",
       "<style scoped>\n",
       "    .dataframe tbody tr th:only-of-type {\n",
       "        vertical-align: middle;\n",
       "    }\n",
       "\n",
       "    .dataframe tbody tr th {\n",
       "        vertical-align: top;\n",
       "    }\n",
       "\n",
       "    .dataframe thead th {\n",
       "        text-align: right;\n",
       "    }\n",
       "</style>\n",
       "<table border=\"1\" class=\"dataframe\">\n",
       "  <thead>\n",
       "    <tr style=\"text-align: right;\">\n",
       "      <th></th>\n",
       "      <th>English</th>\n",
       "      <th>Dutch</th>\n",
       "    </tr>\n",
       "  </thead>\n",
       "  <tbody>\n",
       "    <tr>\n",
       "      <th>0</th>\n",
       "      <td>Resumption of the session</td>\n",
       "      <td>Hervatting van de zitting</td>\n",
       "    </tr>\n",
       "    <tr>\n",
       "      <th>1</th>\n",
       "      <td>I declare resumed the session of the European Parliament adjourned on Friday 17 December 1999, and I would like once again to wish you a happy new year in the hope that you enjoyed a pleasant fest...</td>\n",
       "      <td>Ik verklaar de zitting van het Europees Parlement, die op vrijdag 17 december werd onderbroken, te zijn hervat. Ik wens u allen een gelukkig nieuwjaar en hoop dat u een goede vakantie heeft gehad.</td>\n",
       "    </tr>\n",
       "    <tr>\n",
       "      <th>2</th>\n",
       "      <td>Although, as you will have seen, the dreaded 'millennium bug' failed to materialise, still the people in a number of countries suffered a series of natural disasters that truly were dreadful.</td>\n",
       "      <td>Zoals u heeft kunnen constateren, is de grote \"millenniumbug\" uitgebleven. De burgers van een aantal van onze lidstaten zijn daarentegen door verschrikkelijke natuurrampen getroffen.</td>\n",
       "    </tr>\n",
       "    <tr>\n",
       "      <th>3</th>\n",
       "      <td>You have requested a debate on this subject in the course of the next few days, during this part-session.</td>\n",
       "      <td>U heeft aangegeven dat u deze vergaderperiode een debat wilt over deze rampen.</td>\n",
       "    </tr>\n",
       "    <tr>\n",
       "      <th>4</th>\n",
       "      <td>In the meantime, I should like to observe a minute' s silence, as a number of Members have requested, on behalf of all the victims concerned, particularly those of the terrible storms, in the vari...</td>\n",
       "      <td>Nu wil ik graag op verzoek van een aantal collega's een minuut stilte in acht nemen ter nagedachtenis van de slachtoffers. Ik doel hiermee met name op de slachtoffers van het noodweer dat verschil...</td>\n",
       "    </tr>\n",
       "  </tbody>\n",
       "</table>\n",
       "</div>"
      ],
      "text/plain": [
       "                                                                                                                                                                                                   English  \\\n",
       "0                                                                                                                                                                                Resumption of the session   \n",
       "1  I declare resumed the session of the European Parliament adjourned on Friday 17 December 1999, and I would like once again to wish you a happy new year in the hope that you enjoyed a pleasant fest...   \n",
       "2          Although, as you will have seen, the dreaded 'millennium bug' failed to materialise, still the people in a number of countries suffered a series of natural disasters that truly were dreadful.   \n",
       "3                                                                                                You have requested a debate on this subject in the course of the next few days, during this part-session.   \n",
       "4  In the meantime, I should like to observe a minute' s silence, as a number of Members have requested, on behalf of all the victims concerned, particularly those of the terrible storms, in the vari...   \n",
       "\n",
       "                                                                                                                                                                                                     Dutch  \n",
       "0                                                                                                                                                                                Hervatting van de zitting  \n",
       "1     Ik verklaar de zitting van het Europees Parlement, die op vrijdag 17 december werd onderbroken, te zijn hervat. Ik wens u allen een gelukkig nieuwjaar en hoop dat u een goede vakantie heeft gehad.  \n",
       "2                   Zoals u heeft kunnen constateren, is de grote \"millenniumbug\" uitgebleven. De burgers van een aantal van onze lidstaten zijn daarentegen door verschrikkelijke natuurrampen getroffen.  \n",
       "3                                                                                                                           U heeft aangegeven dat u deze vergaderperiode een debat wilt over deze rampen.  \n",
       "4  Nu wil ik graag op verzoek van een aantal collega's een minuut stilte in acht nemen ter nagedachtenis van de slachtoffers. Ik doel hiermee met name op de slachtoffers van het noodweer dat verschil...  "
      ]
     },
     "execution_count": 137,
     "metadata": {},
     "output_type": "execute_result"
    }
   ],
   "source": [
    "df.head()"
   ]
  },
  {
   "cell_type": "markdown",
   "id": "09932da9-8ee9-41fa-804a-b1443150b5ab",
   "metadata": {},
   "source": [
    "# Preprocessing"
   ]
  },
  {
   "cell_type": "code",
   "execution_count": 139,
   "id": "98f3a16d-41ad-4c6a-8375-3349c937b4ad",
   "metadata": {},
   "outputs": [],
   "source": [
    "en_stop_words = set(stopwords.words(\"english\"))\n",
    "nl_stop_words = set(stopwords.words(\"dutch\"))\n",
    "nl_stop_words.update([\"we\", \"wij\", \"onze\"])"
   ]
  },
  {
   "cell_type": "code",
   "execution_count": 140,
   "id": "c66f2164-42dc-4b2d-a508-698db0c635dd",
   "metadata": {},
   "outputs": [],
   "source": [
    "def preprocess(text, stop_words):\n",
    "    # always lowercase & remove whitespaces\n",
    "    \n",
    "    text = text.lower().strip()\n",
    "\n",
    "    \n",
    "    # Remove everything after '<' if it exists\n",
    "    if \"<\" in text:\n",
    "        text = text.split(\"<\")[0].strip()\n",
    "\n",
    "    if not text:\n",
    "        return \"\"  # Leave empty for later row drop\n",
    "\n",
    "    if config.remove_punct:\n",
    "        #print(\"Removing punctuation ...\")\n",
    "        text = \"\".join([char for char in text if char not in string.punctuation])\n",
    "\n",
    "    if config.remove_stopwords:\n",
    "        #print(\"Removing stopwords ...\")\n",
    "        text = \" \".join([word for word in word_tokenize(text) if word not in stop_words])\n",
    "\n",
    "    if config.remove_nums:\n",
    "        #print(\"Removing numbers ...\")\n",
    "        text = re.sub(r\"\\d+\", \"\", text)\n",
    "\n",
    "    return text"
   ]
  },
  {
   "cell_type": "code",
   "execution_count": 141,
   "id": "2ea02181-5e17-434f-89d5-ecfd583c1a6a",
   "metadata": {},
   "outputs": [],
   "source": [
    "df[\"English\"] = df[\"English\"].apply(lambda x: preprocess(x, en_stop_words))"
   ]
  },
  {
   "cell_type": "code",
   "execution_count": 142,
   "id": "f2259a18-2c73-4339-97c0-2b87e3c61482",
   "metadata": {},
   "outputs": [],
   "source": [
    "df[\"Dutch\"] = df[\"Dutch\"].apply(lambda x: preprocess(x, nl_stop_words))"
   ]
  },
  {
   "cell_type": "code",
   "execution_count": 148,
   "id": "16db3889-aabe-4b6b-b575-0106d6433854",
   "metadata": {},
   "outputs": [
    {
     "data": {
      "text/html": [
       "<div>\n",
       "<style scoped>\n",
       "    .dataframe tbody tr th:only-of-type {\n",
       "        vertical-align: middle;\n",
       "    }\n",
       "\n",
       "    .dataframe tbody tr th {\n",
       "        vertical-align: top;\n",
       "    }\n",
       "\n",
       "    .dataframe thead th {\n",
       "        text-align: right;\n",
       "    }\n",
       "</style>\n",
       "<table border=\"1\" class=\"dataframe\">\n",
       "  <thead>\n",
       "    <tr style=\"text-align: right;\">\n",
       "      <th></th>\n",
       "      <th>English</th>\n",
       "      <th>Dutch</th>\n",
       "    </tr>\n",
       "  </thead>\n",
       "  <tbody>\n",
       "    <tr>\n",
       "      <th>0</th>\n",
       "      <td>resumption session</td>\n",
       "      <td>hervatting zitting</td>\n",
       "    </tr>\n",
       "    <tr>\n",
       "      <th>1</th>\n",
       "      <td>declare resumed session european parliament adjourned friday 17 december 1999 would like wish happy new year hope enjoyed pleasant festive period</td>\n",
       "      <td>verklaar zitting europees parlement vrijdag 17 december onderbroken hervat wens allen gelukkig nieuwjaar hoop goede vakantie gehad</td>\n",
       "    </tr>\n",
       "    <tr>\n",
       "      <th>2</th>\n",
       "      <td>although seen dreaded millennium bug failed materialise still people number countries suffered series natural disasters truly dreadful</td>\n",
       "      <td>zoals constateren grote millenniumbug uitgebleven burgers aantal lidstaten daarentegen verschrikkelijke natuurrampen getroffen</td>\n",
       "    </tr>\n",
       "    <tr>\n",
       "      <th>3</th>\n",
       "      <td>requested debate subject course next days partsession</td>\n",
       "      <td>aangegeven vergaderperiode debat wilt rampen</td>\n",
       "    </tr>\n",
       "    <tr>\n",
       "      <th>4</th>\n",
       "      <td>meantime like observe minute silence number members requested behalf victims concerned particularly terrible storms various countries european union</td>\n",
       "      <td>graag verzoek aantal collegas minuut stilte acht nemen ter nagedachtenis slachtoffers doel hiermee name slachtoffers noodweer verschillende lidstaten unie geteisterd</td>\n",
       "    </tr>\n",
       "    <tr>\n",
       "      <th>5</th>\n",
       "      <td>please rise minute silence</td>\n",
       "      <td>vragen minuut stilte staande acht nemen</td>\n",
       "    </tr>\n",
       "    <tr>\n",
       "      <th>6</th>\n",
       "      <td>house rose observed minute silence</td>\n",
       "      <td>parlement neemt staande minuut stilte acht</td>\n",
       "    </tr>\n",
       "    <tr>\n",
       "      <th>7</th>\n",
       "      <td>madam president point order</td>\n",
       "      <td>mevrouw voorzitter motie orde stellen</td>\n",
       "    </tr>\n",
       "    <tr>\n",
       "      <th>8</th>\n",
       "      <td>aware press television number bomb explosions killings sri lanka</td>\n",
       "      <td>zult via media vernomen sri lanka aantal bomexplosies schietpartijen voorgedaan</td>\n",
       "    </tr>\n",
       "    <tr>\n",
       "      <th>9</th>\n",
       "      <td>one people assassinated recently sri lanka mr kumar ponnambalam visited european parliament months ago</td>\n",
       "      <td>mensen zeer recent sri lanka vermoord heer kumar ponnambalam paar maanden geleden bezoek bracht europees parlement</td>\n",
       "    </tr>\n",
       "    <tr>\n",
       "      <th>10</th>\n",
       "      <td>would appropriate madam president write letter sri lankan president expressing parliaments regret violent deaths sri lanka urging everything possibly seek peaceful reconciliation difficult situation</td>\n",
       "      <td>mevrouw voorzitter wellicht brief schrijven president sri lanka waarin laat weten uzelf europees parlement moord overige brute moorden sri lanka diep betreuren waarin oproept nodige zeer moeilijke...</td>\n",
       "    </tr>\n",
       "    <tr>\n",
       "      <th>11</th>\n",
       "      <td>yes mr evans feel initiative type suggested would entirely appropriate</td>\n",
       "      <td>mijnheer evans denk dergelijk initiatief zeer gepast</td>\n",
       "    </tr>\n",
       "  </tbody>\n",
       "</table>\n",
       "</div>"
      ],
      "text/plain": [
       "                                                                                                                                                                                                   English  \\\n",
       "0                                                                                                                                                                                       resumption session   \n",
       "1                                                        declare resumed session european parliament adjourned friday 17 december 1999 would like wish happy new year hope enjoyed pleasant festive period   \n",
       "2                                                                   although seen dreaded millennium bug failed materialise still people number countries suffered series natural disasters truly dreadful   \n",
       "3                                                                                                                                                    requested debate subject course next days partsession   \n",
       "4                                                     meantime like observe minute silence number members requested behalf victims concerned particularly terrible storms various countries european union   \n",
       "5                                                                                                                                                                               please rise minute silence   \n",
       "6                                                                                                                                                                       house rose observed minute silence   \n",
       "7                                                                                                                                                                              madam president point order   \n",
       "8                                                                                                                                         aware press television number bomb explosions killings sri lanka   \n",
       "9                                                                                                   one people assassinated recently sri lanka mr kumar ponnambalam visited european parliament months ago   \n",
       "10  would appropriate madam president write letter sri lankan president expressing parliaments regret violent deaths sri lanka urging everything possibly seek peaceful reconciliation difficult situation   \n",
       "11                                                                                                                                  yes mr evans feel initiative type suggested would entirely appropriate   \n",
       "\n",
       "                                                                                                                                                                                                      Dutch  \n",
       "0                                                                                                                                                                                        hervatting zitting  \n",
       "1                                                                        verklaar zitting europees parlement vrijdag 17 december onderbroken hervat wens allen gelukkig nieuwjaar hoop goede vakantie gehad  \n",
       "2                                                                            zoals constateren grote millenniumbug uitgebleven burgers aantal lidstaten daarentegen verschrikkelijke natuurrampen getroffen  \n",
       "3                                                                                                                                                              aangegeven vergaderperiode debat wilt rampen  \n",
       "4                                     graag verzoek aantal collegas minuut stilte acht nemen ter nagedachtenis slachtoffers doel hiermee name slachtoffers noodweer verschillende lidstaten unie geteisterd  \n",
       "5                                                                                                                                                                   vragen minuut stilte staande acht nemen  \n",
       "6                                                                                                                                                                parlement neemt staande minuut stilte acht  \n",
       "7                                                                                                                                                                     mevrouw voorzitter motie orde stellen  \n",
       "8                                                                                                                           zult via media vernomen sri lanka aantal bomexplosies schietpartijen voorgedaan  \n",
       "9                                                                                        mensen zeer recent sri lanka vermoord heer kumar ponnambalam paar maanden geleden bezoek bracht europees parlement  \n",
       "10  mevrouw voorzitter wellicht brief schrijven president sri lanka waarin laat weten uzelf europees parlement moord overige brute moorden sri lanka diep betreuren waarin oproept nodige zeer moeilijke...  \n",
       "11                                                                                                                                                     mijnheer evans denk dergelijk initiatief zeer gepast  "
      ]
     },
     "execution_count": 148,
     "metadata": {},
     "output_type": "execute_result"
    }
   ],
   "source": [
    "df.head(12)"
   ]
  },
  {
   "cell_type": "markdown",
   "id": "6f3a0239-d806-4a28-a8c6-060cc1be2836",
   "metadata": {},
   "source": [
    "## Remove Duplicates"
   ]
  },
  {
   "cell_type": "code",
   "execution_count": 150,
   "id": "66e7937c-8c08-40db-9e53-b8bea08a1a62",
   "metadata": {},
   "outputs": [
    {
     "data": {
      "text/plain": [
       "49065"
      ]
     },
     "execution_count": 150,
     "metadata": {},
     "output_type": "execute_result"
    }
   ],
   "source": [
    "df.duplicated(keep=\"first\").sum()"
   ]
  },
  {
   "cell_type": "code",
   "execution_count": 151,
   "id": "3deb2f7b-26c8-4630-84c8-c1fc64f8c4e4",
   "metadata": {},
   "outputs": [
    {
     "data": {
      "text/html": [
       "<div>\n",
       "<style scoped>\n",
       "    .dataframe tbody tr th:only-of-type {\n",
       "        vertical-align: middle;\n",
       "    }\n",
       "\n",
       "    .dataframe tbody tr th {\n",
       "        vertical-align: top;\n",
       "    }\n",
       "\n",
       "    .dataframe thead th {\n",
       "        text-align: right;\n",
       "    }\n",
       "</style>\n",
       "<table border=\"1\" class=\"dataframe\">\n",
       "  <thead>\n",
       "    <tr style=\"text-align: right;\">\n",
       "      <th></th>\n",
       "      <th>English</th>\n",
       "      <th>Dutch</th>\n",
       "    </tr>\n",
       "  </thead>\n",
       "  <tbody>\n",
       "    <tr>\n",
       "      <th>0</th>\n",
       "      <td>resumption session</td>\n",
       "      <td>hervatting zitting</td>\n",
       "    </tr>\n",
       "    <tr>\n",
       "      <th>1</th>\n",
       "      <td>declare resumed session european parliament adjourned friday 17 december 1999 would like wish happy new year hope enjoyed pleasant festive period</td>\n",
       "      <td>verklaar zitting europees parlement vrijdag 17 december onderbroken hervat wens allen gelukkig nieuwjaar hoop goede vakantie gehad</td>\n",
       "    </tr>\n",
       "    <tr>\n",
       "      <th>2</th>\n",
       "      <td>although seen dreaded millennium bug failed materialise still people number countries suffered series natural disasters truly dreadful</td>\n",
       "      <td>zoals constateren grote millenniumbug uitgebleven burgers aantal lidstaten daarentegen verschrikkelijke natuurrampen getroffen</td>\n",
       "    </tr>\n",
       "    <tr>\n",
       "      <th>3</th>\n",
       "      <td>requested debate subject course next days partsession</td>\n",
       "      <td>aangegeven vergaderperiode debat wilt rampen</td>\n",
       "    </tr>\n",
       "    <tr>\n",
       "      <th>4</th>\n",
       "      <td>meantime like observe minute silence number members requested behalf victims concerned particularly terrible storms various countries european union</td>\n",
       "      <td>graag verzoek aantal collegas minuut stilte acht nemen ter nagedachtenis slachtoffers doel hiermee name slachtoffers noodweer verschillende lidstaten unie geteisterd</td>\n",
       "    </tr>\n",
       "  </tbody>\n",
       "</table>\n",
       "</div>"
      ],
      "text/plain": [
       "                                                                                                                                                English  \\\n",
       "0                                                                                                                                    resumption session   \n",
       "1     declare resumed session european parliament adjourned friday 17 december 1999 would like wish happy new year hope enjoyed pleasant festive period   \n",
       "2                although seen dreaded millennium bug failed materialise still people number countries suffered series natural disasters truly dreadful   \n",
       "3                                                                                                 requested debate subject course next days partsession   \n",
       "4  meantime like observe minute silence number members requested behalf victims concerned particularly terrible storms various countries european union   \n",
       "\n",
       "                                                                                                                                                                   Dutch  \n",
       "0                                                                                                                                                     hervatting zitting  \n",
       "1                                     verklaar zitting europees parlement vrijdag 17 december onderbroken hervat wens allen gelukkig nieuwjaar hoop goede vakantie gehad  \n",
       "2                                         zoals constateren grote millenniumbug uitgebleven burgers aantal lidstaten daarentegen verschrikkelijke natuurrampen getroffen  \n",
       "3                                                                                                                           aangegeven vergaderperiode debat wilt rampen  \n",
       "4  graag verzoek aantal collegas minuut stilte acht nemen ter nagedachtenis slachtoffers doel hiermee name slachtoffers noodweer verschillende lidstaten unie geteisterd  "
      ]
     },
     "execution_count": 151,
     "metadata": {},
     "output_type": "execute_result"
    }
   ],
   "source": [
    "df = df.drop_duplicates(keep=\"first\")\n",
    "df.head()"
   ]
  },
  {
   "cell_type": "code",
   "execution_count": 152,
   "id": "7d079efe-0c81-47a3-94aa-036a6bd8ef74",
   "metadata": {},
   "outputs": [
    {
     "data": {
      "text/plain": [
       "1948710"
      ]
     },
     "execution_count": 152,
     "metadata": {},
     "output_type": "execute_result"
    }
   ],
   "source": [
    "len(df)"
   ]
  },
  {
   "cell_type": "markdown",
   "id": "4ffd5fa3-ee7b-4fe6-a8c2-24417ff0c35e",
   "metadata": {},
   "source": [
    "## Remove Empty"
   ]
  },
  {
   "cell_type": "code",
   "execution_count": 154,
   "id": "cb40fade-0740-4669-8ed4-3b07b2693b73",
   "metadata": {},
   "outputs": [
    {
     "name": "stdout",
     "output_type": "stream",
     "text": [
      "Deleted 18611 rows due to empty cells\n"
     ]
    }
   ],
   "source": [
    "before_rows = len(df)\n",
    "# Drop rows where either column is empty\n",
    "df = df[(df[\"English\"] != \"\") & (df[\"Dutch\"] != \"\")]\n",
    "after_rows = len(df)\n",
    "\n",
    "print(f\"Deleted {before_rows - after_rows} rows due to empty cells\")"
   ]
  },
  {
   "cell_type": "code",
   "execution_count": 162,
   "id": "6cbf5bfe-47dd-4e05-82d6-e0292bfd83fd",
   "metadata": {},
   "outputs": [
    {
     "data": {
      "text/plain": [
       "1930099"
      ]
     },
     "execution_count": 162,
     "metadata": {},
     "output_type": "execute_result"
    }
   ],
   "source": [
    "len(df)"
   ]
  },
  {
   "cell_type": "code",
   "execution_count": null,
   "id": "c42d23ed-c3d2-479f-abc0-590d13b179b8",
   "metadata": {},
   "outputs": [],
   "source": []
  }
 ],
 "metadata": {
  "kernelspec": {
   "display_name": "translator",
   "language": "python",
   "name": "translator"
  },
  "language_info": {
   "codemirror_mode": {
    "name": "ipython",
    "version": 3
   },
   "file_extension": ".py",
   "mimetype": "text/x-python",
   "name": "python",
   "nbconvert_exporter": "python",
   "pygments_lexer": "ipython3",
   "version": "3.12.7"
  }
 },
 "nbformat": 4,
 "nbformat_minor": 5
}
